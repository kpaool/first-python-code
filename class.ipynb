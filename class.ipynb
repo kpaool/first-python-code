{
 "cells": [
  {
   "cell_type": "code",
   "execution_count": 3,
   "metadata": {},
   "outputs": [
    {
     "data": {
      "text/plain": [
       "'100mins'"
      ]
     },
     "execution_count": 3,
     "metadata": {},
     "output_type": "execute_result"
    }
   ],
   "source": [
    "class Car():\n",
    "    color=\"\"\n",
    "    model=\"\"\n",
    "    speed=0\n",
    "    brand=\"\"\n",
    "    fuel_tank=0\n",
    "    mileage=0\n",
    "    engine_size=0\n",
    "    number_of_whels=0\n",
    "\n",
    "    def __init__(self,brand,model) -> None:\n",
    "        self.brand=brand\n",
    "        self.model=model\n",
    "\n",
    "    def navigation(self,direction):\n",
    "        print(f\"Turn {direction}\")\n",
    "\n",
    "\n",
    "\n",
    "class ElectricCar(Car):\n",
    "    battery_capacity=0\n",
    "    __charge_duration=0\n",
    "\n",
    "    def __init__(self, brand, model,batter_capacity,charge_duration) -> None:\n",
    "        self.battery_capacity=batter_capacity\n",
    "        self.__charge_duration=charge_duration\n",
    "        super().__init__(brand, model)\n",
    "\n",
    "\n",
    "    def get_charge_duration(self):\n",
    "        return self.__charge_duration\n",
    "\n",
    "class CEngineCar(Car):\n",
    "    engine_capacity=0\n",
    "    \n",
    "    \n",
    "    def __init__(self, brand, model,capacity) -> None:\n",
    "        self.engine_capacity=capacity\n",
    "        super().__init__(brand, model)\n",
    "\n",
    "\n",
    "class HybridCar(ElectricCar,Car):\n",
    "    carbon_emmission=0\n",
    "\n",
    "car =Car(brand=\"Toyota\",model=\"2020\")\n",
    "\n",
    "electric_car=ElectricCar(brand=\"Tesla\",model=\"Model S 2020\",batter_capacity=\"230KWh\",charge_duration=\"100mins\")\n",
    "electric_car.get_charge_duration()"
   ]
  },
  {
   "cell_type": "code",
   "execution_count": null,
   "metadata": {},
   "outputs": [],
   "source": []
  },
  {
   "cell_type": "markdown",
   "metadata": {},
   "source": [
    "## Abstract classes\n",
    "- Abstract classes are used to hide information\n",
    "- Can only be accessed through inheritance\n",
    "- Can't be instanciated\n",
    "- "
   ]
  },
  {
   "cell_type": "code",
   "execution_count": null,
   "metadata": {},
   "outputs": [],
   "source": []
  }
 ],
 "metadata": {
  "kernelspec": {
   "display_name": "Python 3.9.6 64-bit",
   "language": "python",
   "name": "python3"
  },
  "language_info": {
   "codemirror_mode": {
    "name": "ipython",
    "version": 3
   },
   "file_extension": ".py",
   "mimetype": "text/x-python",
   "name": "python",
   "nbconvert_exporter": "python",
   "pygments_lexer": "ipython3",
   "version": "3.9.6"
  },
  "orig_nbformat": 4,
  "vscode": {
   "interpreter": {
    "hash": "e89691e4663d647bc11c8a9859f5cdd56224e794f653bdd6c406cd9780fe241b"
   }
  }
 },
 "nbformat": 4,
 "nbformat_minor": 2
}
